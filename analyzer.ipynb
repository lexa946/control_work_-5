{
 "cells": [
  {
   "cell_type": "code",
   "execution_count": 1,
   "id": "initial_id",
   "metadata": {
    "collapsed": true,
    "ExecuteTime": {
     "end_time": "2024-12-23T11:53:06.208051Z",
     "start_time": "2024-12-23T11:52:39.429578Z"
    }
   },
   "outputs": [
    {
     "name": "stdout",
     "output_type": "stream",
     "text": [
      "+---------------+-------------------+------+--------------------+-------------+-------------+\n",
      "|             ip|          timestamp|method|                 url|response_code|response_size|\n",
      "+---------------+-------------------+------+--------------------+-------------+-------------+\n",
      "|122.205.103.124|2024-07-25 16:32:55|DELETE|             explore|          500|         3548|\n",
      "|   78.33.252.60|2024-07-10 09:06:49|DELETE|          categories|          500|         9618|\n",
      "| 92.101.177.214|2024-08-26 08:27:26|DELETE|      categories/app|          500|         2131|\n",
      "|   2.162.44.128|2024-11-02 19:42:31|   GET|     wp-content/list|          200|         4606|\n",
      "|  144.64.33.139|2024-11-15 05:48:49|  POST|       tag/posts/tag|          200|          612|\n",
      "|  26.185.128.78|2024-01-31 09:57:29|   PUT|list/posts/catego...|          301|         1879|\n",
      "| 219.217.205.17|2024-08-27 17:27:39|   PUT|          wp-content|          500|         3553|\n",
      "| 118.249.252.62|2024-05-26 13:01:21|   PUT|list/categories/main|          301|          511|\n",
      "|143.135.226.147|2024-07-11 07:13:34|   PUT|list/blog/categories|          301|         6126|\n",
      "|  81.192.108.21|2024-08-26 11:15:13|   PUT|wp-content/main/main|          200|         8774|\n",
      "|  185.134.46.26|2024-04-06 16:02:57|   GET|wp-content/explor...|          404|         6977|\n",
      "| 157.96.157.130|2024-11-17 20:51:14|DELETE|         list/search|          500|         7922|\n",
      "|  29.153.96.151|2024-02-03 14:04:13|   GET|wp-content/catego...|          301|         6282|\n",
      "|    27.78.21.39|2024-02-22 04:00:06|   GET|main/posts/catego...|          404|         4377|\n",
      "|  130.6.147.227|2024-04-18 21:54:23|  POST|         app/explore|          301|         3942|\n",
      "| 61.101.146.131|2024-10-07 16:29:29|   PUT|   explore/tags/main|          500|         4495|\n",
      "|   5.237.210.73|2024-08-11 01:05:00|DELETE|      tag/categories|          404|         9389|\n",
      "|   114.7.143.70|2024-05-07 03:17:21|  POST|              search|          200|         7078|\n",
      "|  115.64.42.156|2024-11-05 18:30:26|DELETE|                main|          404|         1233|\n",
      "| 16.216.182.169|2024-01-04 11:25:23|   GET|   category/app/list|          301|         3002|\n",
      "+---------------+-------------------+------+--------------------+-------------+-------------+\n"
     ]
    }
   ],
   "source": [
    "from pyspark.sql import SparkSession\n",
    "from pathlib import Path\n",
    "\n",
    "LOG_FILE_PATH = Path(\"./web_server_logs.csv\")\n",
    "\n",
    "\n",
    "spark = SparkSession.builder.appName(\"Analyzer HTTP Logs\").getOrCreate()\n",
    "\n",
    "df = spark.read.csv(LOG_FILE_PATH.as_posix(), header=True, sep=\",\", inferSchema=True)\n",
    "df.show()"
   ]
  },
  {
   "cell_type": "code",
   "outputs": [
    {
     "name": "stdout",
     "output_type": "stream",
     "text": [
      "+--------------+--------------+\n",
      "|            ip|requests_count|\n",
      "+--------------+--------------+\n",
      "| 29.105.228.97|             2|\n",
      "|   1.58.178.83|             2|\n",
      "| 130.9.244.188|             2|\n",
      "| 170.8.224.192|             1|\n",
      "|114.239.220.25|             1|\n",
      "|   7.0.242.187|             1|\n",
      "| 84.241.30.145|             1|\n",
      "|   4.60.52.253|             1|\n",
      "|97.241.137.188|             1|\n",
      "|154.224.85.202|             1|\n",
      "+--------------+--------------+\n"
     ]
    }
   ],
   "source": [
    "from pyspark.sql import functions as f\n",
    "\n",
    "df_ip_high_requests = df.groupBy(\"ip\").agg(\n",
    "    f.count(f.col(\"ip\")).alias(\"requests_count\")\n",
    ").select(\"ip\", \"requests_count\").sort(f.col(\"requests_count\").desc())\n",
    "df_ip_high_requests.show(10)"
   ],
   "metadata": {
    "collapsed": false,
    "ExecuteTime": {
     "end_time": "2024-12-23T11:56:56.070034Z",
     "start_time": "2024-12-23T11:56:55.039441Z"
    }
   },
   "id": "d6f49444b3b395b8",
   "execution_count": 5
  },
  {
   "cell_type": "code",
   "outputs": [
    {
     "name": "stdout",
     "output_type": "stream",
     "text": [
      "+------+------------+\n",
      "|method|method_count|\n",
      "+------+------------+\n",
      "|  POST|       25165|\n",
      "|   GET|       25055|\n",
      "|DELETE|       24929|\n",
      "|   PUT|       24851|\n",
      "+------+------------+\n"
     ]
    }
   ],
   "source": [
    "df_http_methods = df.groupBy(\"method\").agg(\n",
    "    f.count(f.col(\"method\")).alias(\"method_count\")\n",
    ").select(\"method\", \"method_count\").sort(f.col(\"method_count\").desc())\n",
    "df_http_methods.show()"
   ],
   "metadata": {
    "collapsed": false,
    "ExecuteTime": {
     "end_time": "2024-12-23T11:59:34.274506Z",
     "start_time": "2024-12-23T11:59:33.617052Z"
    }
   },
   "id": "860a1b4a40b4ffd7",
   "execution_count": 6
  },
  {
   "cell_type": "code",
   "outputs": [
    {
     "name": "stdout",
     "output_type": "stream",
     "text": [
      "Number of 404 response codes: 24932\n"
     ]
    }
   ],
   "source": [
    "count_404_response = df.where(\n",
    "    f.col(\"response_code\") == 404\n",
    ").count()\n",
    "print(f\"Number of 404 response codes: {count_404_response}\")"
   ],
   "metadata": {
    "collapsed": false,
    "ExecuteTime": {
     "end_time": "2024-12-23T12:02:18.917673Z",
     "start_time": "2024-12-23T12:02:18.696202Z"
    }
   },
   "id": "6454c84445c6f110",
   "execution_count": 10
  },
  {
   "cell_type": "code",
   "outputs": [
    {
     "name": "stdout",
     "output_type": "stream",
     "text": [
      "+----------+-------------------+\n",
      "|      date|total_response_size|\n",
      "+----------+-------------------+\n",
      "|2024-01-01|            1579594|\n",
      "|2024-01-02|            1511013|\n",
      "|2024-01-03|            1406932|\n",
      "|2024-01-04|            1433647|\n",
      "|2024-01-05|            1474578|\n",
      "|2024-01-06|            1455497|\n",
      "|2024-01-07|            1426465|\n",
      "|2024-01-08|            1486051|\n",
      "|2024-01-09|            1377264|\n",
      "|2024-01-10|            1278870|\n",
      "|2024-01-11|            1507364|\n",
      "|2024-01-12|            1335366|\n",
      "|2024-01-13|            1428527|\n",
      "|2024-01-14|            1357803|\n",
      "|2024-01-15|            1528435|\n",
      "|2024-01-16|            1260900|\n",
      "|2024-01-17|            1405764|\n",
      "|2024-01-18|            1453248|\n",
      "|2024-01-19|            1347440|\n",
      "|2024-01-20|            1502185|\n",
      "+----------+-------------------+\n"
     ]
    }
   ],
   "source": [
    "df_total_response_size_dates = df.withColumn(\"date\", f.to_date(f.col(\"timestamp\"))).groupBy(\"date\").agg(\n",
    "    f.sum(f.col(\"response_size\")).alias(\"total_response_size\")\n",
    ").sort(\"date\")\n",
    "df_total_response_size_dates.show()\n",
    "# df.printSchema()"
   ],
   "metadata": {
    "collapsed": false,
    "ExecuteTime": {
     "end_time": "2024-12-23T12:17:03.993445Z",
     "start_time": "2024-12-23T12:17:03.277763Z"
    }
   },
   "id": "f8a948bdf65ae149",
   "execution_count": 17
  },
  {
   "cell_type": "code",
   "outputs": [],
   "source": [],
   "metadata": {
    "collapsed": false
   },
   "id": "9ff4f67bd0c5e421"
  }
 ],
 "metadata": {
  "kernelspec": {
   "display_name": "Python 3",
   "language": "python",
   "name": "python3"
  },
  "language_info": {
   "codemirror_mode": {
    "name": "ipython",
    "version": 2
   },
   "file_extension": ".py",
   "mimetype": "text/x-python",
   "name": "python",
   "nbconvert_exporter": "python",
   "pygments_lexer": "ipython2",
   "version": "2.7.6"
  }
 },
 "nbformat": 4,
 "nbformat_minor": 5
}
